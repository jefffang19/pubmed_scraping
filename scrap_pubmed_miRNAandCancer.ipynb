{
 "metadata": {
  "language_info": {
   "codemirror_mode": {
    "name": "ipython",
    "version": 3
   },
   "file_extension": ".py",
   "mimetype": "text/x-python",
   "name": "python",
   "nbconvert_exporter": "python",
   "pygments_lexer": "ipython3",
   "version": "3.7.9-final"
  },
  "orig_nbformat": 2,
  "kernelspec": {
   "name": "python3",
   "display_name": "Python 3.7.9 64-bit ('django': conda)",
   "metadata": {
    "interpreter": {
     "hash": "ec74341948cff23e0b6da933de0881d60b3b50b83e7d5d34f43737fa8f768f4a"
    }
   }
  }
 },
 "nbformat": 4,
 "nbformat_minor": 2,
 "cells": [
  {
   "cell_type": "code",
   "execution_count": 2,
   "metadata": {},
   "outputs": [],
   "source": [
    "import requests\n",
    "from bs4 import BeautifulSoup\n",
    "import time"
   ]
  },
  {
   "source": [
    "# Define Target url"
   ],
   "cell_type": "markdown",
   "metadata": {}
  },
  {
   "cell_type": "code",
   "execution_count": 3,
   "metadata": {},
   "outputs": [],
   "source": [
    "# pubmed url\n",
    "# search\n",
    "# https://pubmed.ncbi.nlm.nih.gov/?term={keyword}&page={page#}\n",
    "# article\n",
    "# https://pubmed.ncbi.nlm.nih.gov/32265149/\n",
    "base_url = 'https://pubmed.ncbi.nlm.nih.gov'\n",
    "search_url = 'https://pubmed.ncbi.nlm.nih.gov/?term={}+and+{}&filter=simsearch1.fha&page={}' # Cancer type, miRNA, page num\n",
    "# filter=simsearch1.fha means filter out the article with no abstract avaliable"
   ]
  },
  {
   "source": [
    "# define scraping tags"
   ],
   "cell_type": "markdown",
   "metadata": {}
  },
  {
   "cell_type": "code",
   "execution_count": 154,
   "metadata": {},
   "outputs": [],
   "source": [
    "# article name in search page\n",
    "search_article_name_tag = 'a'\n",
    "search_article_name_class = 'docsum-title'\n",
    "\n",
    "# abstract\n",
    "abstract_tag = 'div'\n",
    "abstract_class = 'abstract-content selected'\n",
    "\n",
    "keyword_cancer = 'Squamous cell carcinoma'\n",
    "keyword_miRNA = 'miR-31'"
   ]
  },
  {
   "source": [
    "# define scraping range"
   ],
   "cell_type": "markdown",
   "metadata": {}
  },
  {
   "cell_type": "code",
   "execution_count": 155,
   "metadata": {},
   "outputs": [],
   "source": [
    "# scrap from page start_page_num to page to_page_num\n",
    "start_page_num = 1\n",
    "to_page_num = 7\n",
    "\n",
    "# save paths\n",
    "fpath = 'data/'"
   ]
  },
  {
   "cell_type": "code",
   "execution_count": 156,
   "metadata": {},
   "outputs": [],
   "source": [
    "import pandas as pd"
   ]
  },
  {
   "cell_type": "code",
   "execution_count": 157,
   "metadata": {},
   "outputs": [],
   "source": [
    "# journel_list = []"
   ]
  },
  {
   "cell_type": "code",
   "execution_count": 158,
   "metadata": {
    "tags": []
   },
   "outputs": [
    {
     "output_type": "stream",
     "name": "stdout",
     "text": [
      "scrap https://pubmed.ncbi.nlm.nih.gov/?term=Squamous cell carcinoma+and+miR-31&filter=simsearch1.fha&page=1\n",
      "scrap https://pubmed.ncbi.nlm.nih.gov/?term=Squamous cell carcinoma+and+miR-31&filter=simsearch1.fha&page=2\n",
      "scrap https://pubmed.ncbi.nlm.nih.gov/?term=Squamous cell carcinoma+and+miR-31&filter=simsearch1.fha&page=3\n",
      "scrap https://pubmed.ncbi.nlm.nih.gov/?term=Squamous cell carcinoma+and+miR-31&filter=simsearch1.fha&page=4\n",
      "scrap https://pubmed.ncbi.nlm.nih.gov/?term=Squamous cell carcinoma+and+miR-31&filter=simsearch1.fha&page=5\n",
      "scrap https://pubmed.ncbi.nlm.nih.gov/?term=Squamous cell carcinoma+and+miR-31&filter=simsearch1.fha&page=6\n",
      "scrap https://pubmed.ncbi.nlm.nih.gov/?term=Squamous cell carcinoma+and+miR-31&filter=simsearch1.fha&page=7\n"
     ]
    }
   ],
   "source": [
    "# start scraping\n",
    "page = start_page_num\n",
    "\n",
    "for i in range(start_page_num,to_page_num+1):\n",
    "    print('scrap {}'.format(search_url.format(keyword_cancer, keyword_miRNA, i)))\n",
    "    rq = requests.get(search_url.format(keyword_cancer, keyword_miRNA, i)) # get search page\n",
    "    soup = BeautifulSoup(rq.text, 'lxml')\n",
    "    articles = soup.find_all(search_article_name_tag, class_=search_article_name_class)\n",
    "\n",
    "    title = []\n",
    "    abstract = []\n",
    "    j_list = []\n",
    "    for art in articles:\n",
    "        title.append(art.text.strip()) # title\n",
    "        # get abstract page\n",
    "        rq = requests.get(base_url + art.get('href'))\n",
    "        time.sleep(0.1)\n",
    "        soup = BeautifulSoup(rq.text, 'lxml')\n",
    "        # get abstract tag\n",
    "        articles = soup.find_all(abstract_tag, class_=abstract_class)\n",
    "\n",
    "        # get journel\n",
    "        journel = soup.find_all('button', class_='journal-actions-trigger trigger')\n",
    "        for j in journel:\n",
    "            if j.get('title') not in journel_list:\n",
    "                journel_list.append(j.get('title'))\n",
    "            j_list.append(j.get('title'))\n",
    "            break\n",
    "\n",
    "        # check if no abstract\n",
    "        if articles == []:\n",
    "            abstract.append('')\n",
    "            continue\n",
    "        \n",
    "        # get abstract raw text\n",
    "        for a in articles:\n",
    "            temp = a.text.split()\n",
    "            temp = ' '.join(temp)\n",
    "\n",
    "        abstract.append(temp)\n",
    "\n",
    "    # save as csv\n",
    "    d = {'title' : title, 'abstract' : abstract, 'journal' : j_list}\n",
    "    one_page_df = pd.DataFrame(d)\n",
    "    one_page_df.to_csv(fpath + str(page) + '.csv')\n",
    "\n",
    "    page += 1\n",
    "    \n",
    "    time.sleep(1)"
   ]
  },
  {
   "cell_type": "code",
   "execution_count": 159,
   "metadata": {},
   "outputs": [
    {
     "output_type": "stream",
     "name": "stdout",
     "text": [
      "['Stem cells international', 'International journal of clinical and experimental pathology', 'Molecular medicine reports', 'Cancer biomarkers : section A of Disease markers', 'Medical science monitor : international medical journal of experimental and clinical research', 'Cancer management and research', 'Cancer biotherapy & radiopharmaceuticals', 'Oncology research', 'Journal of Cancer', 'American journal of translational research', 'Biochemical pharmacology', 'Scientific reports', 'Anti-cancer drugs', 'BMC cancer', 'Oncotarget', 'Tumour biology : the journal of the International Society for Oncodevelopmental Biology and Medicine', 'Molecular cancer research : MCR', 'PloS one', 'Cell death & disease', 'International journal of oncology', 'Molecular genetics & genomic medicine', 'Frontiers in pediatrics', 'Oncology reports', 'The Journal of pathology', 'Annals of oncology : official journal of the European Society for Medical Oncology', 'Bioscience reports', 'International journal of medical sciences', 'Veterinary sciences', 'Carcinogenesis', 'Pathology, research and practice', 'Genetics and molecular biology', 'Oncogene', 'American journal of cancer research', 'ACS nano', 'Journal of cellular physiology', 'BMC medical genomics', 'International journal of molecular sciences', 'Cancer research', 'Clinical laboratory', 'Artificial cells, nanomedicine, and biotechnology', 'Archives of biochemistry and biophysics', 'The International journal of biological markers', 'Cell cycle (Georgetown, Tex.)', 'Cancer medicine', 'Biomedicine & pharmacotherapy = Biomedecine & pharmacotherapie', 'Cellular physiology and biochemistry : international journal of experimental cellular physiology, biochemistry, and pharmacology', 'Gene', 'OncoTargets and therapy', 'Experimental biology and medicine (Maywood, N.J.)', 'Biochemical and biophysical research communications', 'Cell journal', 'Molecular therapy : the journal of the American Society of Gene Therapy', 'Medical oncology (Northwood, London, England)', 'Oncology letters', 'PloS one', 'Oncogene', 'European review for medical and pharmacological sciences', 'Molecular cancer therapeutics', 'Connective tissue research', 'Journal of orthopaedic research : official publication of the Orthopaedic Research Society', 'Clinical orthopaedics and related research', 'Cancers', 'Cancer gene therapy', 'Leukemia research', 'Zhongguo shi yan xue ye xue za zhi', 'Blood reviews', 'JCI insight', 'Medicine', 'Journal of clinical laboratory analysis', 'Journal of experimental & clinical cancer research : CR', 'Acta pharmacologica Sinica', 'Zhonghua xue ye xue za zhi = Zhonghua xueyexue zazhi', 'Cytotherapy', 'Current pharmaceutical biotechnology', 'Experimental cell research', 'Biomarker research', 'RNA biology', 'Molecular carcinogenesis', 'The Journal of clinical investigation', 'International journal of molecular sciences', 'PeerJ', 'Frontiers in genetics', 'The Journal of biological chemistry', 'Skeletal muscle', 'Pediatric blood & cancer', 'European journal of gastroenterology & hepatology', 'Laboratory investigation; a journal of technical methods and pathology', 'British journal of cancer', 'Antioxidants & redox signaling', 'Molecular oncology', 'FASEB journal : official publication of the Federation of American Societies for Experimental Biology', 'The international journal of biochemistry & cell biology', 'Nucleic acid therapeutics', 'Journal of biosciences', 'Frontiers in cell and developmental biology', 'Neuro-oncology', 'Neuroscience letters', 'Neuropharmacology', 'Cell biology international', 'Neural regeneration research', 'FEBS letters', 'Proceedings of the National Academy of Sciences of the United States of America', 'BMC research notes', 'Molecular cell', 'Cancer epidemiology, biomarkers & prevention : a publication of the American Association for Cancer Research, cosponsored by the American Society of Preventive Oncology', 'Neoplasia (New York, N.Y.)', 'The Journal of neuroscience : the official journal of the Society for Neuroscience', 'Cancer metastasis reviews', 'Cell death and differentiation', 'Medicinal research reviews', 'Genes, chromosomes & cancer', 'Cancer letters', 'Cancer cell', 'Journal of cellular and molecular medicine', 'Nature genetics', 'Translational oncology', 'Expert opinion on drug discovery', 'American Society of Clinical Oncology educational book. American Society of Clinical Oncology. Annual Meeting', 'Theranostics', 'Small (Weinheim an der Bergstrasse, Germany)', 'Clinical cancer research : an official journal of the American Association for Cancer Research', 'International journal of cancer', 'Nature', 'Scientific data', 'Biochemistry and biophysics reports', \"Child's nervous system : ChNS : official journal of the International Society for Pediatric Neurosurgery\", 'Trends in cancer', 'Gastroenterology', 'Bone research', 'Hepatology (Baltimore, Md.)', 'BioMed research international', 'Journal of cancer research and therapeutics', 'Parasitology international', 'Pharmacogenomics', 'Asian Pacific journal of cancer prevention : APJCP', 'European journal of cancer (Oxford, England : 1990)', 'Zhongguo dang dai er ke za zhi = Chinese journal of contemporary pediatrics', 'Journal of cellular biochemistry', 'Biologicals : journal of the International Association of Biological Standardization', 'Genes & development', 'Molecular vision', 'Nature cell biology', 'Cancer science', 'Cellular and molecular life sciences : CMLS', 'Microvascular research', 'Acta medica Iranica', 'Bioinformatics and biology insights', 'Journal of molecular and cellular cardiology', 'TheScientificWorldJournal', 'Journal of oral pathology & medicine : official publication of the International Association of Oral Pathologists and the American Academy of Oral Pathology', '[Zhonghua yan ke za zhi] Chinese journal of ophthalmology', 'Oral oncology', 'Head & neck', 'Chinese medical journal', 'Journal of B.U.ON. : official journal of the Balkan Union of Oncology', 'Oral diseases', 'Diagnostic pathology', 'Journal of the National Cancer Institute', 'Cancer prevention research (Philadelphia, Pa.)', 'Journal of cancer research and clinical oncology', 'Journal of surgical oncology', 'Clinical science (London, England : 1979)', 'Histopathology', 'Genes & cancer', 'Archives of gynecology and obstetrics', 'Cellular oncology (Dordrecht)', 'Otolaryngology--head and neck surgery : official journal of American Academy of Otolaryngology-Head and Neck Surgery', 'Experimental dermatology', 'Experimental and clinical transplantation : official journal of the Middle East Society for Organ Transplantation', 'International journal of biological sciences', 'Current opinion in otolaryngology & head and neck surgery', 'Molecular cancer', 'Analytical chemistry', 'Expert review of gastroenterology & hepatology', 'Brazilian journal of otorhinolaryngology']\n"
     ]
    }
   ],
   "source": [
    "print(journel_list)"
   ]
  },
  {
   "cell_type": "code",
   "execution_count": 160,
   "metadata": {},
   "outputs": [],
   "source": [
    "if 'Cancer research' not in journel_list:\n",
    "    journel_list.append('International journal of molecular sciences')"
   ]
  },
  {
   "cell_type": "code",
   "execution_count": 161,
   "metadata": {},
   "outputs": [
    {
     "output_type": "execute_result",
     "data": {
      "text/plain": [
       "175"
      ]
     },
     "metadata": {},
     "execution_count": 161
    }
   ],
   "source": [
    "len(journel_list)"
   ]
  },
  {
   "cell_type": "code",
   "execution_count": 162,
   "metadata": {},
   "outputs": [],
   "source": [
    "f = open('journel_list.txt', 'w')\n",
    "for i in journel_list:\n",
    "    f.write(i + '\\n')\n",
    "\n",
    "f.close()"
   ]
  },
  {
   "cell_type": "code",
   "execution_count": 164,
   "metadata": {},
   "outputs": [],
   "source": [
    "_d = {'journal' : journel_list}\n",
    "one_page_df = pd.DataFrame(_d)\n",
    "one_page_df.to_csv('journal_list.csv')"
   ]
  },
  {
   "cell_type": "code",
   "execution_count": null,
   "metadata": {},
   "outputs": [],
   "source": [
    "# Retinoblastoma and let-17 no result"
   ]
  },
  {
   "cell_type": "code",
   "execution_count": 6,
   "metadata": {},
   "outputs": [
    {
     "output_type": "execute_result",
     "data": {
      "text/plain": [
       "'microrna-34a'"
      ]
     },
     "metadata": {},
     "execution_count": 6
    }
   ],
   "source": [
    "# what happen if we stem mi-RNA\n",
    "\n",
    "from nltk.stem import PorterStemmer \n",
    "\n",
    "ps = PorterStemmer()    \n",
    "\n",
    "ps.stem('MicroRNA-34a')"
   ]
  },
  {
   "cell_type": "code",
   "execution_count": null,
   "metadata": {},
   "outputs": [],
   "source": []
  }
 ]
}